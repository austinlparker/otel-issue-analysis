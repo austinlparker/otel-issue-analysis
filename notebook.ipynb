{
 "cells": [
  {
   "cell_type": "code",
   "execution_count": 1,
   "metadata": {},
   "outputs": [],
   "source": [
    "import github3\n",
    "from dotenv import load_dotenv, dotenv_values\n",
    "import os\n",
    "\n",
    "load_dotenv()\n",
    "\n",
    "github = github3.login(token=os.getenv('GITHUB_TOKEN'))"
   ]
  },
  {
   "cell_type": "code",
   "execution_count": 2,
   "metadata": {},
   "outputs": [],
   "source": [
    "js_issues = github.issues_on(username='open-telemetry', repository='opentelemetry-js', state='open')"
   ]
  },
  {
   "cell_type": "code",
   "execution_count": 3,
   "metadata": {},
   "outputs": [
    {
     "name": "stdout",
     "output_type": "stream",
     "text": [
      "Processed 0 of 298 items\n"
     ]
    }
   ],
   "source": [
    "from openai import OpenAI\n",
    "from pydantic import BaseModel, Field\n",
    "from typing import List\n",
    "import instructor\n",
    "import concurrent.futures\n",
    "\n",
    "\n",
    "class Issue(BaseModel):\n",
    "    title: str = Field(..., description=\"The title of the issue.\")\n",
    "    url: str = Field(..., description=\"The URL of the issue.\")\n",
    "    libraries: List[str] = Field(..., description=\"A list of libraries mentioned in the issue.\")\n",
    "    body: str = Field(..., description=\"The body of the issue.\")\n",
    "    positive_reactions: int = Field(..., description=\"The number of positive reactions on the issue.\")\n",
    "    negative_reactions: int = Field(..., description=\"The number of negative reactions on the issue.\")\n",
    "    inferred_sentiment: str = Field(..., description=\"The sentiment of the issue body (one of 'positive', 'negative', or 'neutral').\")\n",
    "\n",
    "client = instructor.from_openai(OpenAI())\n",
    "\n",
    "responses = []\n",
    "\n",
    "def process_issue(issue):\n",
    "    resp = client.chat.completions.create(\n",
    "        model=\"gpt-4o-mini\",\n",
    "        messages=[\n",
    "            {\n",
    "                \"role\": \"system\",\n",
    "                \"content\": \"You are a system that parses GitHub issues and extracts data from them.\"\n",
    "            },\n",
    "            {\n",
    "                \"role\": \"user\",\n",
    "                \"content\": issue\n",
    "            }\n",
    "        ],\n",
    "        response_model=Issue\n",
    "    )\n",
    "    return resp\n",
    "\n",
    "json_issues = [issue.json() for issue in js_issues]\n",
    "\n",
    "# Function to print the status\n",
    "def print_status(completed, total):\n",
    "    print(f\"Processed {completed} of {total} items\")\n",
    "\n",
    "# Use concurrent.futures to process issues in parallel using threads\n",
    "responses = []\n",
    "total_tasks = len(json_issues)\n",
    "\n",
    "with concurrent.futures.ThreadPoolExecutor() as executor:\n",
    "    futures = {executor.submit(process_issue, json_content): json_content for json_content in json_issues}\n",
    "    completed_tasks = 0\n",
    "\n",
    "    for future in concurrent.futures.as_completed(futures):\n",
    "        try:\n",
    "            response = future.result()\n",
    "            responses.append(response)\n",
    "        except Exception as exc:\n",
    "            print(f'Generated an exception: {exc}')\n",
    "        completed_tasks += 1\n",
    "        print_status(completed_tasks, total_tasks)"
   ]
  },
  {
   "cell_type": "code",
   "execution_count": null,
   "metadata": {},
   "outputs": [],
   "source": [
    "%pip install libhoney"
   ]
  },
  {
   "cell_type": "code",
   "execution_count": null,
   "metadata": {},
   "outputs": [],
   "source": [
    "import libhoney\n",
    "libhoney.init(writekey=os.getenv('HONEYCOMB_API_KEY'), dataset='otel-github-issues')\n",
    "for response in responses:\n",
    "    evt = libhoney.Event()\n",
    "    evt.add_field('title', response.title)\n",
    "    evt.add_field('url', response.url)\n",
    "    evt.add_field('positive_reactions', response.positive_reactions)\n",
    "    evt.add_field('negative_reactions', response.negative_reactions)\n",
    "    evt.add_field('inferred_sentiment', response.inferred_sentiment)\n",
    "    evt.add_field('body', response.body)\n",
    "    for library in response.libraries:\n",
    "        evt.add_field('library', library)\n",
    "    evt.send()"
   ]
  }
 ],
 "metadata": {
  "kernelspec": {
   "display_name": "otel-analysis",
   "language": "python",
   "name": "python3"
  },
  "language_info": {
   "codemirror_mode": {
    "name": "ipython",
    "version": 3
   },
   "file_extension": ".py",
   "mimetype": "text/x-python",
   "name": "python",
   "nbconvert_exporter": "python",
   "pygments_lexer": "ipython3",
   "version": "3.12.2"
  }
 },
 "nbformat": 4,
 "nbformat_minor": 2
}
