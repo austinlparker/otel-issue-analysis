{
 "cells": [
  {
   "cell_type": "code",
   "execution_count": 1,
   "metadata": {},
   "outputs": [],
   "source": [
    "import github3\n",
    "from dotenv import load_dotenv, dotenv_values\n",
    "import libhoney\n",
    "import os\n",
    "\n",
    "load_dotenv()\n",
    "\n",
    "github = github3.login(token=os.getenv('GITHUB_TOKEN'))\n",
    "libhoney.init(writekey=os.getenv('HONEYCOMB_API_KEY'), dataset='otel-github-issues')"
   ]
  },
  {
   "cell_type": "code",
   "execution_count": 2,
   "metadata": {},
   "outputs": [],
   "source": [
    "js_issues = github.issues_on(username='open-telemetry', repository='opentelemetry-js', state='open')\n",
    "js_issues_filtered = [issue for issue in js_issues if \"renovate-bot\" not in issue.user.login and \"forking-renovate[bot]\" not in issue.user.login]\n",
    "js_issues_json = [issue.as_json() for issue in js_issues_filtered]"
   ]
  },
  {
   "cell_type": "code",
   "execution_count": 3,
   "metadata": {},
   "outputs": [],
   "source": [
    "js_contrib_issues = github.issues_on(username='open-telemetry', repository='opentelemetry-js-contrib', state='open')\n",
    "js_contrib_issues_filtered = [issue for issue in js_contrib_issues if \"renovate-bot\" not in issue.user.login and \"forking-renovate[bot]\" not in issue.user.login]\n",
    "js_contrib_issues_json = [issue.as_json() for issue in js_contrib_issues_filtered]"
   ]
  },
  {
   "cell_type": "code",
   "execution_count": 4,
   "metadata": {},
   "outputs": [],
   "source": [
    "py_issues = github.issues_on(username='open-telemetry', repository='opentelemetry-python', state='open')\n",
    "py_issues_json = [issue.as_json() for issue in py_issues]"
   ]
  },
  {
   "cell_type": "code",
   "execution_count": 5,
   "metadata": {},
   "outputs": [],
   "source": [
    "py_contrib_issues = github.issues_on(username='open-telemetry', repository='opentelemetry-python-contrib', state='open')\n",
    "py_contrib_issues_json = [issue.as_json() for issue in py_contrib_issues]"
   ]
  },
  {
   "cell_type": "code",
   "execution_count": 6,
   "metadata": {},
   "outputs": [],
   "source": [
    "java_issues = github.issues_on(username='open-telemetry', repository='opentelemetry-java', state='open')\n",
    "java_issues_filtered = [issue for issue in java_issues if \"renovate-bot\" not in issue.user.login and \"forking-renovate[bot]\" not in issue.user.login]\n",
    "java_issues_json = [issue.as_json() for issue in java_issues_filtered]"
   ]
  },
  {
   "cell_type": "code",
   "execution_count": 7,
   "metadata": {},
   "outputs": [],
   "source": [
    "java_contrib_issues = github.issues_on(username='open-telemetry', repository='opentelemetry-java-contrib', state='open')\n",
    "java_contrib_issues_filtered = [issue for issue in java_contrib_issues if \"renovate-bot\" not in issue.user.login and \"forking-renovate[bot]\" not in issue.user.login]\n",
    "java_contrib_issues_json = [issue.as_json() for issue in java_contrib_issues_filtered]"
   ]
  },
  {
   "cell_type": "code",
   "execution_count": 8,
   "metadata": {},
   "outputs": [],
   "source": [
    "java_instrumentation_issues = github.issues_on(username='open-telemetry', repository='opentelemetry-java-instrumentation', state='open')\n",
    "java_instrumentation_issues_filtered = [issue for issue in java_instrumentation_issues if \"renovate-bot\" not in issue.user.login and \"forking-renovate[bot]\" not in issue.user.login]\n",
    "java_instrumentation_issues_json = [issue.as_json() for issue in java_instrumentation_issues_filtered]"
   ]
  },
  {
   "cell_type": "code",
   "execution_count": 9,
   "metadata": {},
   "outputs": [],
   "source": [
    "go_issues = github.issues_on(username='open-telemetry', repository='opentelemetry-go', state='open')\n",
    "go_issues_filtered = [issue for issue in go_issues if \"renovate-bot\" not in issue.user.login and \"forking-renovate[bot]\" not in issue.user.login]\n",
    "go_issues_json = [issue.as_json() for issue in go_issues_filtered]"
   ]
  },
  {
   "cell_type": "code",
   "execution_count": 10,
   "metadata": {},
   "outputs": [],
   "source": [
    "go_contrib_issues = github.issues_on(username='open-telemetry', repository='opentelemetry-go-contrib', state='open')\n",
    "go_contrib_issues_filtered = [issue for issue in go_contrib_issues if \"renovate-bot\" not in issue.user.login and \"forking-renovate[bot]\" not in issue.user.login]\n",
    "go_contrib_issues_json = [issue.as_json() for issue in go_contrib_issues_filtered]"
   ]
  },
  {
   "cell_type": "code",
   "execution_count": 11,
   "metadata": {},
   "outputs": [],
   "source": [
    "from openai import OpenAI\n",
    "from pydantic import BaseModel, Field\n",
    "from typing import List\n",
    "import instructor\n",
    "import concurrent.futures\n",
    "from tqdm import tqdm\n",
    "\n",
    "\n",
    "class Issue(BaseModel):\n",
    "    title: str = Field(..., description=\"The title of the issue.\")\n",
    "    id: int = Field(..., description=\"The ID of the issue.\")\n",
    "    url: str = Field(..., description=\"The URL of the issue.\")\n",
    "    libraries: List[str] = Field(..., description=\"A list of libraries mentioned in the issue, in lower case.\")\n",
    "    detected_cloud_providers: List[str] = Field(..., description=\"A list of cloud providers mentioned in the issue, or inferred from the issue body.\")\n",
    "    body: str = Field(..., description=\"The body of the issue.\")\n",
    "    body_summary: str = Field(..., description=\"A 500 character summary of the issue body.\")\n",
    "    comment_count: int = Field(..., description=\"The number of comments on the issue.\")\n",
    "    updated_at: str = Field(..., description=\"The date and time the issue was last updated.\")\n",
    "    positive_reactions: int = Field(..., description=\"The number of positive reactions on the issue.\")\n",
    "    negative_reactions: int = Field(..., description=\"The number of negative reactions on the issue.\")\n",
    "    inferred_sentiment: str = Field(..., description=\"The sentiment of the issue body (one of 'positive', 'negative', or 'neutral').\")\n",
    "    source_repo: str = Field(..., description=\"The name of the repository where the issue was opened.\")\n",
    "    labels: List[str] = Field(..., description=\"A list of labels on the issue.\")\n",
    "\n",
    "client = instructor.from_openai(OpenAI())\n",
    "\n",
    "responses = []\n",
    "\n",
    "def process_issue(issue):\n",
    "    resp = client.chat.completions.create(\n",
    "        model=\"gpt-4o-mini\",\n",
    "        messages=[\n",
    "            {\n",
    "                \"role\": \"system\",\n",
    "                \"content\": \"You are a system that parses GitHub issues and extracts data from them.\"\n",
    "            },\n",
    "            {\n",
    "                \"role\": \"user\",\n",
    "                \"content\": issue\n",
    "            }\n",
    "        ],\n",
    "        response_model=Issue\n",
    "    )\n",
    "    return resp\n",
    "\n",
    "def print_status(completed, total):\n",
    "    print(f\"Processed {completed} of {total} items\")\n",
    "\n",
    "# Expects a list of JSON objects, each representing a GitHub issue\n",
    "def run_issue_process(issues):\n",
    "    responses = []\n",
    "    total_tasks = len(issues)\n",
    "\n",
    "    with concurrent.futures.ThreadPoolExecutor() as executor:\n",
    "        futures = {executor.submit(process_issue, json_content): json_content for json_content in issues}\n",
    "        completed_tasks = 0\n",
    "\n",
    "        for future in tqdm(concurrent.futures.as_completed(futures), total=total_tasks):\n",
    "            try:\n",
    "                response = future.result()\n",
    "                responses.append(response)\n",
    "            except Exception as exc:\n",
    "                print(f'Generated an exception: {exc}')\n",
    "            completed_tasks += 1\n",
    "    return responses"
   ]
  },
  {
   "cell_type": "code",
   "execution_count": 12,
   "metadata": {},
   "outputs": [
    {
     "name": "stderr",
     "output_type": "stream",
     "text": [
      "100%|██████████| 289/289 [04:33<00:00,  1.06it/s]\n",
      "100%|██████████| 186/186 [02:30<00:00,  1.24it/s]\n",
      "100%|██████████| 302/302 [03:07<00:00,  1.61it/s]\n",
      "100%|██████████| 545/545 [06:54<00:00,  1.32it/s]\n",
      "100%|██████████| 134/134 [02:26<00:00,  1.09s/it]\n",
      "100%|██████████| 69/69 [01:27<00:00,  1.26s/it]\n",
      "100%|██████████| 423/423 [07:28<00:00,  1.06s/it]\n",
      "100%|██████████| 164/164 [03:43<00:00,  1.36s/it]\n",
      "100%|█████████▉| 237/238 [07:44<01:30, 90.63s/it]"
     ]
    },
    {
     "name": "stdout",
     "output_type": "stream",
     "text": [
      "Generated an exception: 8 validation errors for Issue\n",
      "body_summary\n",
      "  Field required [type=missing, input_value={'title': 'Add semconv v1...                    \\\\'}, input_type=dict]\n",
      "    For further information visit https://errors.pydantic.dev/2.7/v/missing\n",
      "comment_count\n",
      "  Field required [type=missing, input_value={'title': 'Add semconv v1...                    \\\\'}, input_type=dict]\n",
      "    For further information visit https://errors.pydantic.dev/2.7/v/missing\n",
      "updated_at\n",
      "  Field required [type=missing, input_value={'title': 'Add semconv v1...                    \\\\'}, input_type=dict]\n",
      "    For further information visit https://errors.pydantic.dev/2.7/v/missing\n",
      "positive_reactions\n",
      "  Field required [type=missing, input_value={'title': 'Add semconv v1...                    \\\\'}, input_type=dict]\n",
      "    For further information visit https://errors.pydantic.dev/2.7/v/missing\n",
      "negative_reactions\n",
      "  Field required [type=missing, input_value={'title': 'Add semconv v1...                    \\\\'}, input_type=dict]\n",
      "    For further information visit https://errors.pydantic.dev/2.7/v/missing\n",
      "inferred_sentiment\n",
      "  Field required [type=missing, input_value={'title': 'Add semconv v1...                    \\\\'}, input_type=dict]\n",
      "    For further information visit https://errors.pydantic.dev/2.7/v/missing\n",
      "source_repo\n",
      "  Field required [type=missing, input_value={'title': 'Add semconv v1...                    \\\\'}, input_type=dict]\n",
      "    For further information visit https://errors.pydantic.dev/2.7/v/missing\n",
      "labels\n",
      "  Field required [type=missing, input_value={'title': 'Add semconv v1...                    \\\\'}, input_type=dict]\n",
      "    For further information visit https://errors.pydantic.dev/2.7/v/missing\n"
     ]
    },
    {
     "name": "stderr",
     "output_type": "stream",
     "text": [
      "100%|██████████| 238/238 [17:16<00:00,  4.35s/it] \n"
     ]
    }
   ],
   "source": [
    "js_responses = run_issue_process(js_issues_json)\n",
    "js_contrib_responses = run_issue_process(js_contrib_issues_json)\n",
    "py_responses = run_issue_process(py_issues_json)\n",
    "py_contrib_responses = run_issue_process(py_contrib_issues_json)\n",
    "java_responses = run_issue_process(java_issues_json)\n",
    "java_contrib_responses = run_issue_process(java_contrib_issues_json)\n",
    "java_instrumentation_responses = run_issue_process(java_instrumentation_issues_json)\n",
    "go_responses = run_issue_process(go_issues_json)\n",
    "go_contrib_responses = run_issue_process(go_contrib_issues_json)\n"
   ]
  },
  {
   "cell_type": "code",
   "execution_count": 13,
   "metadata": {},
   "outputs": [],
   "source": [
    "import libhoney\n",
    "\n",
    "def send_to_honeycomb(response):\n",
    "    evt = libhoney.Event()\n",
    "    for field, value in response.dict().items():\n",
    "        if isinstance(value, list):\n",
    "            for item in value:\n",
    "                evt.add_field(field, item)\n",
    "        else:\n",
    "            evt.add_field(field, value)\n",
    "    evt.send()\n",
    "\n",
    "for response in js_contrib_responses:\n",
    "    send_to_honeycomb(response)\n",
    "for response in js_responses:\n",
    "    send_to_honeycomb(response)\n",
    "for response in py_contrib_responses:\n",
    "    send_to_honeycomb(response)\n",
    "for response in py_responses:\n",
    "    send_to_honeycomb(response)\n",
    "for response in java_responses:\n",
    "    send_to_honeycomb(response)\n",
    "for response in java_contrib_responses:\n",
    "    send_to_honeycomb(response)\n",
    "for response in java_instrumentation_responses:\n",
    "    send_to_honeycomb(response)\n",
    "for response in go_responses:\n",
    "    send_to_honeycomb(response)\n",
    "for response in go_contrib_responses:\n",
    "    send_to_honeycomb(response)\n",
    "    "
   ]
  },
  {
   "cell_type": "code",
   "execution_count": null,
   "metadata": {},
   "outputs": [],
   "source": []
  }
 ],
 "metadata": {
  "kernelspec": {
   "display_name": "otel-analysis",
   "language": "python",
   "name": "python3"
  },
  "language_info": {
   "codemirror_mode": {
    "name": "ipython",
    "version": 3
   },
   "file_extension": ".py",
   "mimetype": "text/x-python",
   "name": "python",
   "nbconvert_exporter": "python",
   "pygments_lexer": "ipython3",
   "version": "3.12.2"
  }
 },
 "nbformat": 4,
 "nbformat_minor": 2
}
