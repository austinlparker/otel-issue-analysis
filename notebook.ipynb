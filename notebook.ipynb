{
 "cells": [
  {
   "cell_type": "code",
   "execution_count": 1,
   "metadata": {},
   "outputs": [],
   "source": [
    "import github3\n",
    "from dotenv import load_dotenv, dotenv_values\n",
    "import os\n",
    "\n",
    "load_dotenv()\n",
    "\n",
    "github = github3.login(token=os.getenv('GITHUB_TOKEN'))"
   ]
  },
  {
   "cell_type": "code",
   "execution_count": 2,
   "metadata": {},
   "outputs": [],
   "source": [
    "js_issues = github.issues_on(username='open-telemetry', repository='opentelemetry-js', state='open')"
   ]
  },
  {
   "cell_type": "code",
   "execution_count": 3,
   "metadata": {},
   "outputs": [],
   "source": [
    "from openai import OpenAI\n",
    "from pydantic import BaseModel, Field\n",
    "from typing import List\n",
    "import instructor\n",
    "from itertools import islice\n",
    "\n",
    "class Issue(BaseModel):\n",
    "    title: str = Field(..., description=\"The title of the issue.\")\n",
    "    url: str = Field(..., description=\"The URL of the issue.\")\n",
    "    libraries: List[str] = Field(..., description=\"A list of libraries mentioned in the issue.\")\n",
    "    positive_reactions: int = Field(..., description=\"The number of positive reactions on the issue.\")\n",
    "    negative_reactions: int = Field(..., description=\"The number of negative reactions on the issue.\")\n",
    "\n",
    "client = instructor.from_openai(OpenAI())\n",
    "\n",
    "responses = []\n",
    "\n",
    "for issue in islice(js_issues, 10):\n",
    "    json_content = issue.as_json()\n",
    "    resp = client.chat.completions.create(\n",
    "        model=\"gpt-4o\",\n",
    "        messages=[\n",
    "            {\n",
    "                \"role\": \"system\",\n",
    "                \"content\": \"You are a system that parses GitHub issues and extracts data from them.\"\n",
    "            },\n",
    "            {\n",
    "                \"role\": \"user\",\n",
    "                \"content\": json_content\n",
    "            }\n",
    "        ],\n",
    "        response_model=Issue\n",
    "    )\n",
    "    responses.append(resp)"
   ]
  },
  {
   "cell_type": "code",
   "execution_count": 4,
   "metadata": {},
   "outputs": [
    {
     "name": "stdout",
     "output_type": "stream",
     "text": [
      "[Issue(title='Instrumenting node build chains', url='https://github.com/open-telemetry/opentelemetry-js/issues/4872', libraries=['Webpack', 'Rollup'], positive_reactions=0, negative_reactions=0),\n",
      " Issue(title='Unable to set object as span attribute value', url='https://github.com/open-telemetry/opentelemetry-js/issues/4871', libraries=['OpenTelemetry.js'], positive_reactions=0, negative_reactions=0),\n",
      " Issue(title='Update Typescript', url='https://github.com/open-telemetry/opentelemetry-js/issues/4870', libraries=['typescript', 'downlevel-dts', 'typesVersions'], positive_reactions=0, negative_reactions=0),\n",
      " Issue(title='Logs Stabilization Plan', url='https://github.com/open-telemetry/opentelemetry-js/issues/4869', libraries=['API', 'SDK'], positive_reactions=0, negative_reactions=0),\n",
      " Issue(title=\"couchbase instrumentation doesn't not support?\", url='https://github.com/open-telemetry/opentelemetry-js/issues/4868', libraries=['couchbase', 'opentelemetry'], positive_reactions=0, negative_reactions=0),\n",
      " Issue(title='fix(instrumentation-http): Ensure instrumentation of `http.get` and `https.get` work when used in ESM code', url='https://github.com/open-telemetry/opentelemetry-js/pull/4866', libraries=['instrumentation-http', 'http', 'https'], positive_reactions=0, negative_reactions=0),\n",
      " Issue(title='Lambda Auto Instrumentation Causes -> Internal Server Error Due To Span not Ending', url='https://github.com/open-telemetry/opentelemetry-js/issues/4863', libraries=['opentelemetry-nodejs', 'api gateway', 'cloudflare'], positive_reactions=0, negative_reactions=0),\n",
      " Issue(title='feat(api): Integrate @opentelemetry/api-logs package into @opentelemetry/api as experimental', url='https://github.com/open-telemetry/opentelemetry-js/pull/4862', libraries=['@opentelemetry/api-logs', '@opentelemetry/api'], positive_reactions=0, negative_reactions=0),\n",
      " Issue(title='feat(api-logs): Add delegating no-op logger provider', url='https://github.com/open-telemetry/opentelemetry-js/pull/4861', libraries=['api-logs'], positive_reactions=0, negative_reactions=0),\n",
      " Issue(title='chore(deps): update all patch versions', url='https://github.com/open-telemetry/opentelemetry-js/pull/4860', libraries=['@babel/core', '@babel/preset-env', 'chromedriver'], positive_reactions=0, negative_reactions=0)]\n"
     ]
    }
   ],
   "source": [
    "import pprint\n",
    "\n",
    "pprint.pprint(responses)"
   ]
  }
 ],
 "metadata": {
  "kernelspec": {
   "display_name": "otel-analysis",
   "language": "python",
   "name": "python3"
  },
  "language_info": {
   "codemirror_mode": {
    "name": "ipython",
    "version": 3
   },
   "file_extension": ".py",
   "mimetype": "text/x-python",
   "name": "python",
   "nbconvert_exporter": "python",
   "pygments_lexer": "ipython3",
   "version": "3.12.4"
  }
 },
 "nbformat": 4,
 "nbformat_minor": 2
}
